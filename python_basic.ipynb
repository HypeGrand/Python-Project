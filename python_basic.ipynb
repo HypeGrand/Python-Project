{
 "cells": [
  {
   "cell_type": "markdown",
   "metadata": {},
   "source": [
    "Print"
   ]
  },
  {
   "cell_type": "code",
   "execution_count": 62,
   "metadata": {},
   "outputs": [
    {
     "name": "stdout",
     "output_type": "stream",
     "text": [
      "Hello world\n"
     ]
    }
   ],
   "source": [
    "print(\"Hello world\") #in here we want to print \"Hello World\""
   ]
  },
  {
   "cell_type": "markdown",
   "metadata": {},
   "source": [
    "Variable, is a place where we store a value, so every varible should have a value"
   ]
  },
  {
   "cell_type": "code",
   "execution_count": 63,
   "metadata": {},
   "outputs": [
    {
     "name": "stdout",
     "output_type": "stream",
     "text": [
      "Hello World\n"
     ]
    }
   ],
   "source": [
    "message  = \"Hello World\" #in here message called the variabel, and the \"Hello World\" here is the Value\n",
    "\n",
    "print(message) #here we want to print the value inside the message variabel wich is the \"Hello World\""
   ]
  },
  {
   "cell_type": "markdown",
   "metadata": {},
   "source": [
    "Variable in Python is sensitive case"
   ]
  },
  {
   "cell_type": "code",
   "execution_count": 64,
   "metadata": {},
   "outputs": [
    {
     "name": "stdout",
     "output_type": "stream",
     "text": [
      "error, please check your code again\n"
     ]
    }
   ],
   "source": [
    "try:\n",
    "    message  = 'Hello World' # \"\" or '' is the same thing\n",
    "\n",
    "    print(Message) #notice here the value we put is \"Message\" not \"message\", the difference beetwen \"M\" and \"m\" will make the output error\n",
    "\n",
    "except NameError: \n",
    "    print(\"error, please check your code again\")"
   ]
  },
  {
   "cell_type": "markdown",
   "metadata": {},
   "source": [
    "Changing Case "
   ]
  },
  {
   "cell_type": "code",
   "execution_count": 65,
   "metadata": {},
   "outputs": [
    {
     "name": "stdout",
     "output_type": "stream",
     "text": [
      "this is proper : This Beatiful World Is Ours To Protect\n",
      "this is lower  : this beatiful world is ours to protect\n",
      "this is upper  : THIS BEATIFUL WORLD IS OURS TO PROTECT\n"
     ]
    }
   ],
   "source": [
    "word = \"This Beatiful WORLD is Ours to protect\"\n",
    "\n",
    "print(f\"this is proper : {word.title()}\") #to make it proper for example how a title are written\n",
    "print(f\"this is lower  : {word.lower()}\") #to make all the word is in lowercase\n",
    "print(f\"this is upper  : {word.upper()}\") #to make all the word is in uppercase"
   ]
  },
  {
   "cell_type": "code",
   "execution_count": 66,
   "metadata": {},
   "outputs": [
    {
     "name": "stdout",
     "output_type": "stream",
     "text": [
      "This is the normal one :\n",
      "Hello World\n",
      "\n",
      "This is using the tab, or giving space :\n",
      "\tHello World\n",
      "\n",
      "This is making a new line :\n",
      "Hello \n",
      "World\n",
      "\n",
      "This is combining make a new line and giving space :\n",
      "Hello \n",
      "\tWorld\n"
     ]
    }
   ],
   "source": [
    "print(\"This is the normal one :\")\n",
    "print(\"Hello World\") #this is the normal way\n",
    "print(\"\\nThis is using the tab, or giving space :\")\n",
    "print(\"\\tHello World\") #\\t giving a space or a tab\n",
    "print(\"\\nThis is making a new line :\")\n",
    "print(\"Hello \\nWorld\") #\\n giving new line\n",
    "\n",
    "#combining \\t\\n\n",
    "print(\"\\nThis is combining make a new line and giving space :\")\n",
    "print (\"Hello \\n\\tWorld\")"
   ]
  },
  {
   "cell_type": "markdown",
   "metadata": {},
   "source": [
    "Python is a languang where they are sensitive to whitespace, so the languange provide us with some function to erase a whitespace within the code or syntax that you made"
   ]
  },
  {
   "cell_type": "markdown",
   "metadata": {},
   "source": [
    "Striping Whitespace"
   ]
  },
  {
   "cell_type": "code",
   "execution_count": 67,
   "metadata": {},
   "outputs": [
    {
     "name": "stdout",
     "output_type": "stream",
     "text": [
      "erase right whitespace : '    expectation'\n",
      "erase left whitespace : 'expectation    '\n",
      "erase both right and left whitespace : 'expectation'\n"
     ]
    }
   ],
   "source": [
    "sentences = \"    expectation    \"\n",
    "\n",
    "#rstrip used to strip the right whitespace within the sentence\n",
    "print(f\"erase right whitespace : '{sentences.rstrip()}'\")\n",
    "\n",
    "#lstrip used to strip the left whitespace within the sentence \n",
    "print(f\"erase left whitespace : '{sentences.lstrip()}'\") \n",
    "\n",
    "#strip used to strip the right and left whitespace within the sentence\n",
    "print(f\"erase both right and left whitespace : '{sentences.strip()}'\") "
   ]
  },
  {
   "cell_type": "markdown",
   "metadata": {},
   "source": [
    "Numbers"
   ]
  },
  {
   "cell_type": "code",
   "execution_count": 68,
   "metadata": {},
   "outputs": [
    {
     "name": "stdout",
     "output_type": "stream",
     "text": [
      "add 3 + 2:\n",
      "5\n",
      "\n",
      "substract 3 - 2 :\n",
      "1\n",
      "\n",
      "multiply 2 * 3: \n",
      "6\n",
      "\n",
      "divide 5/2 :\n",
      "1.6666666666666667\n",
      "\n",
      "rounded divide 5/2 :\n",
      "1\n",
      "\n",
      "quadratic 2^2 :\n",
      "4\n",
      "\n",
      "underscore :\n",
      "2000\n"
     ]
    }
   ],
   "source": [
    "print(\"add 3 + 2:\")\n",
    "print(3 + 2) #add operation\n",
    "\n",
    "print(\"\\nsubstract 3 - 2 :\")\n",
    "print(3 - 2) #subtract operation\n",
    "\n",
    "print(\"\\nmultiply 2 * 3: \")\n",
    "print(2 * 3) #multiply operation\n",
    "\n",
    "print(\"\\ndivide 5/2 :\")\n",
    "print(5/3) #divive operation\n",
    "\n",
    "print(\"\\nrounded divide 5/2 :\")\n",
    "print(5//3) #in divide operation if we change the notation from / to // it will round down the output\n",
    "\n",
    "print(\"\\nquadratic 2^2 :\")\n",
    "print(2**2) #quadratic operation\n",
    "\n",
    "print(\"\\nunderscore :\")\n",
    "print(1_000 + 1_000) #we can also write number using undercore\n"
   ]
  },
  {
   "cell_type": "markdown",
   "metadata": {},
   "source": [
    "the above is the integer operation, except integers in number theres also float. Float is basicly a decimal number in math"
   ]
  },
  {
   "cell_type": "code",
   "execution_count": 69,
   "metadata": {},
   "outputs": [
    {
     "name": "stdout",
     "output_type": "stream",
     "text": [
      "17\n"
     ]
    }
   ],
   "source": [
    "x, y, z = 18, 7, 6 #we can also assign a value to a multiple variable at once\n",
    "\n",
    "print(x - y + z)"
   ]
  },
  {
   "cell_type": "markdown",
   "metadata": {},
   "source": [
    "Philosphy of pyhton coder"
   ]
  },
  {
   "cell_type": "code",
   "execution_count": 70,
   "metadata": {},
   "outputs": [],
   "source": [
    "import this"
   ]
  },
  {
   "cell_type": "markdown",
   "metadata": {},
   "source": [
    "List"
   ]
  },
  {
   "cell_type": "code",
   "execution_count": 71,
   "metadata": {},
   "outputs": [
    {
     "name": "stdout",
     "output_type": "stream",
     "text": [
      "['she', 'her', 'he', 'him', 'bat', 'man']\n"
     ]
    }
   ],
   "source": [
    "pronounce = ['she', 'her', 'he', 'him', 'bat', 'man'] #list di awali dengan []\n",
    "print(pronounce)"
   ]
  },
  {
   "cell_type": "code",
   "execution_count": 72,
   "metadata": {},
   "outputs": [
    {
     "name": "stdout",
     "output_type": "stream",
     "text": [
      "she\n",
      "SHE\n",
      "The Third Element : he\n",
      "The Fourth Element : him\n",
      "The Last Element : man\n"
     ]
    }
   ],
   "source": [
    "print(pronounce[0]) #access the first element\n",
    "\n",
    "#we can also edit the ouput, like upper or lower if its a word, if a number we can do some operation\n",
    "print(pronounce[0].upper()) \n",
    "\n",
    "#acces the third and fourth element\n",
    "print(f'The Third Element : {pronounce[2]}')\n",
    "print(f'The Fourth Element : {pronounce[3]}')\n",
    "\n",
    "#access the last element\n",
    "print(f\"The Last Element : {pronounce[-1]}\")"
   ]
  },
  {
   "cell_type": "code",
   "execution_count": 73,
   "metadata": {},
   "outputs": [
    {
     "name": "stdout",
     "output_type": "stream",
     "text": [
      "['she', 'her', 'he', 'him', 'bat', 'man']\n",
      "changing bat to cat\n",
      "['she', 'her', 'he', 'him', 'cat', 'man']\n"
     ]
    }
   ],
   "source": [
    "#we can also change the value in the list\n",
    "print(pronounce)\n",
    "\n",
    "print(\"changing bat to cat\")\n",
    "pronounce[4] = 'cat' #change the element in index 5(-1) to cat\n",
    "\n",
    "print(pronounce)"
   ]
  },
  {
   "cell_type": "code",
   "execution_count": 74,
   "metadata": {},
   "outputs": [
    {
     "name": "stdout",
     "output_type": "stream",
     "text": [
      "['she', 'her', 'he', 'him', 'cat', 'man']\n",
      "adding they to the list\n",
      "['she', 'her', 'he', 'him', 'cat', 'man', 'they']\n"
     ]
    }
   ],
   "source": [
    "# we can also adding an elemnt using the fucntion append\n",
    "print(pronounce)\n",
    "\n",
    "print(\"adding they to the list\")\n",
    "pronounce.append('they') #adding \"they\" word to the list\n",
    "print(pronounce)"
   ]
  },
  {
   "cell_type": "code",
   "execution_count": 75,
   "metadata": {},
   "outputs": [
    {
     "name": "stdout",
     "output_type": "stream",
     "text": [
      "['she', 'her', 'he', 'him', 'cat', 'man', 'they']\n",
      "inserting them to the list\n",
      "['them', 'she', 'her', 'he', 'him', 'cat', 'man', 'they']\n"
     ]
    }
   ],
   "source": [
    "#we can also add or insert the element to any positition we want\n",
    "print(pronounce)\n",
    "\n",
    "print(\"inserting them to the list\")\n",
    "pronounce.insert(0, \"them\") #here we inserting word \"them\" as the first element\n",
    "print(pronounce)"
   ]
  },
  {
   "cell_type": "code",
   "execution_count": 76,
   "metadata": {},
   "outputs": [
    {
     "name": "stdout",
     "output_type": "stream",
     "text": [
      "['them', 'she', 'her', 'he', 'him', 'cat', 'man', 'they']\n",
      "deleting the first element\n",
      "['she', 'her', 'he', 'him', 'cat', 'man', 'they']\n"
     ]
    }
   ],
   "source": [
    "#removing an element using del function\n",
    "print(pronounce)\n",
    "\n",
    "print('deleting the first element')\n",
    "del pronounce[0] # here the 0 is meant to delete the first element, so if the second element is change it to 1\n",
    "print(pronounce)"
   ]
  },
  {
   "cell_type": "code",
   "execution_count": 77,
   "metadata": {},
   "outputs": [
    {
     "name": "stdout",
     "output_type": "stream",
     "text": [
      "['she', 'her', 'he', 'him', 'cat', 'man', 'they']\n",
      "deleting using pop function\n",
      "the values that deleted : they\n",
      "['she', 'her', 'he', 'him', 'cat', 'man']\n"
     ]
    }
   ],
   "source": [
    "#removing using pop, pop is a function where you using print and delete in the sametime\n",
    "print(pronounce)\n",
    "\n",
    "print('deleting using pop function')\n",
    "print(f\"the values that deleted : {pronounce.pop(-1)}\") #-1 here is the positition, is basicly the same as list, just in function\n",
    "print(pronounce)\n"
   ]
  },
  {
   "cell_type": "code",
   "execution_count": 78,
   "metadata": {},
   "outputs": [
    {
     "name": "stdout",
     "output_type": "stream",
     "text": [
      "['she', 'her', 'he', 'him', 'cat', 'man']\n",
      "delete the word her in pronounce\n",
      "['she', 'he', 'him', 'cat', 'man']\n"
     ]
    }
   ],
   "source": [
    "#how to remove an item by its value\n",
    "print(pronounce)\n",
    "\n",
    "print('delete the word her in pronounce')\n",
    "pronounce.remove('her') #deleting \"her\" word\n",
    "print(pronounce)"
   ]
  },
  {
   "cell_type": "markdown",
   "metadata": {},
   "source": [
    "Organizing in list"
   ]
  },
  {
   "cell_type": "code",
   "execution_count": 79,
   "metadata": {},
   "outputs": [
    {
     "name": "stdout",
     "output_type": "stream",
     "text": [
      "['she', 'he', 'him', 'cat', 'man']\n",
      "\n",
      "Sorted list temporarily: \n",
      "['cat', 'he', 'him', 'man', 'she']\n",
      "Original list (unchanged): \n",
      "['she', 'he', 'him', 'cat', 'man']\n",
      "\n",
      "List after reversing: \n",
      "['man', 'cat', 'him', 'he', 'she']\n",
      "\n",
      "List after sorting: \n",
      "['cat', 'he', 'him', 'man', 'she']\n",
      "\n",
      "List after reverse sorting: \n",
      "['she', 'man', 'him', 'he', 'cat']\n",
      "\n",
      "The length of the list: 5\n"
     ]
    }
   ],
   "source": [
    "#sort by its values\n",
    "print(pronounce)\n",
    "\n",
    "# Sort the list temporarily\n",
    "print(f\"\\nSorted list temporarily: \\n{sorted(pronounce)}\")\n",
    "print(f\"Original list (unchanged): \\n{pronounce}\")\n",
    "\n",
    "# Reverse the list in-place\n",
    "pronounce.reverse()\n",
    "print(f\"\\nList after reversing: \\n{pronounce}\")\n",
    "\n",
    "# Sort the list in-place (ascending)\n",
    "pronounce.sort()\n",
    "print(f\"\\nList after sorting: \\n{pronounce}\")\n",
    "\n",
    "# Sort the list in-place (descending)\n",
    "pronounce.sort(reverse=True)\n",
    "print(f\"\\nList after reverse sorting: \\n{pronounce}\")\n",
    "\n",
    "# Length of the list\n",
    "print(f\"\\nThe length of the list: {len(pronounce)}\")"
   ]
  },
  {
   "cell_type": "code",
   "execution_count": 80,
   "metadata": {},
   "outputs": [
    {
     "name": "stdout",
     "output_type": "stream",
     "text": [
      "she \n",
      "\n",
      "man \n",
      "\n",
      "him \n",
      "\n",
      "he \n",
      "\n",
      "cat \n",
      "\n"
     ]
    }
   ],
   "source": [
    "for i in pronounce: #this is called looping, looping is where the program doing a repetitive task\n",
    "    print(i, \"\\n\")    "
   ]
  },
  {
   "cell_type": "code",
   "execution_count": 81,
   "metadata": {},
   "outputs": [
    {
     "name": "stdout",
     "output_type": "stream",
     "text": [
      "i like bmw\n",
      "bmw is the best\n",
      "\n",
      "i like audi\n",
      "audi is the best\n",
      "\n",
      "i like honda\n",
      "honda is the best\n",
      "\n",
      "basicly i like everything\n"
     ]
    }
   ],
   "source": [
    "car = [\"bmw\", \"audi\", \"honda\"]\n",
    "\n",
    "for i in car:\n",
    "    print(f\"i like {i}\")\n",
    "    print(f\"{i} is the best\\n\")\n",
    "\n",
    "print(\"basicly i like everything\")"
   ]
  },
  {
   "cell_type": "code",
   "execution_count": 82,
   "metadata": {},
   "outputs": [
    {
     "ename": "IndentationError",
     "evalue": "expected an indented block after 'for' statement on line 4 (2708355595.py, line 5)",
     "output_type": "error",
     "traceback": [
      "\u001b[1;36m  Cell \u001b[1;32mIn[82], line 5\u001b[1;36m\u001b[0m\n\u001b[1;33m    print(f\"i like {i}\") #forgetting in indenting after using loop may cause error to your code\u001b[0m\n\u001b[1;37m    ^\u001b[0m\n\u001b[1;31mIndentationError\u001b[0m\u001b[1;31m:\u001b[0m expected an indented block after 'for' statement on line 4\n"
     ]
    }
   ],
   "source": [
    "#Forgetting an indent\n",
    "car = [\"bmw\", \"audi\", \"honda\"]\n",
    "\n",
    "for i in car:\n",
    "print(f\"i like {i}\") #forgetting in indenting after using loop may cause error to your code\n",
    "print(f\"{i} is the best\\n\")\n",
    "\n",
    "print(\"basicly i like everything\")"
   ]
  },
  {
   "cell_type": "code",
   "execution_count": 83,
   "metadata": {},
   "outputs": [
    {
     "name": "stdout",
     "output_type": "stream",
     "text": [
      "i like bmw\n",
      "i like audi\n",
      "i like honda\n",
      "honda is the best\n",
      "\n",
      "basicly i like everything\n"
     ]
    }
   ],
   "source": [
    "#Forgetting an indent to the aditional line\n",
    "car = [\"bmw\", \"audi\", \"honda\"]\n",
    "\n",
    "for i in car:\n",
    "    print(f\"i like {i}\") \n",
    "print(f\"{i} is the best\\n\") #forgetting in indenting to this line, is causing the output to not like what we want\n",
    "\n",
    "print(\"basicly i like everything\")\n",
    "#the output may not give us an error, so this will be a logical error"
   ]
  },
  {
   "cell_type": "code",
   "execution_count": 38,
   "metadata": {},
   "outputs": [
    {
     "ename": "IndentationError",
     "evalue": "unexpected indent (3785351211.py, line 3)",
     "output_type": "error",
     "traceback": [
      "\u001b[1;36m  Cell \u001b[1;32mIn[38], line 3\u001b[1;36m\u001b[0m\n\u001b[1;33m    print(f\"i like car\") #giving an indent when we doesnt need one is also giving error, like \"for what?!\"\u001b[0m\n\u001b[1;37m    ^\u001b[0m\n\u001b[1;31mIndentationError\u001b[0m\u001b[1;31m:\u001b[0m unexpected indent\n"
     ]
    }
   ],
   "source": [
    "#using unnecesarry indent\n",
    "car = [\"bmw\", \"audi\", \"honda\"]\n",
    "    print(f\"i like car\") #giving an indent when we doesnt need one is also giving error, like \"for what?!\""
   ]
  },
  {
   "cell_type": "code",
   "execution_count": 84,
   "metadata": {},
   "outputs": [
    {
     "name": "stdout",
     "output_type": "stream",
     "text": [
      "i like bmw\n",
      "bmw is the best\n",
      "\n",
      "basicly i like everything\n",
      "i like audi\n",
      "audi is the best\n",
      "\n",
      "basicly i like everything\n",
      "i like honda\n",
      "honda is the best\n",
      "\n",
      "basicly i like everything\n"
     ]
    }
   ],
   "source": [
    "#unnecesarry indent after loop\n",
    "car = [\"bmw\", \"audi\", \"honda\"]\n",
    "\n",
    "for i in car:\n",
    "    print(f\"i like {i}\") \n",
    "    print(f\"{i} is the best\\n\") \n",
    "\n",
    "    print(\"basicly i like everything\") #giving an indenting to this line, is causing the output to not like what we want \n",
    "#the output may not give us an error, so this will be a logical error"
   ]
  },
  {
   "cell_type": "code",
   "execution_count": 85,
   "metadata": {},
   "outputs": [
    {
     "ename": "SyntaxError",
     "evalue": "expected ':' (3612183868.py, line 2)",
     "output_type": "error",
     "traceback": [
      "\u001b[1;36m  Cell \u001b[1;32mIn[85], line 2\u001b[1;36m\u001b[0m\n\u001b[1;33m    for i in pronounce\u001b[0m\n\u001b[1;37m                      ^\u001b[0m\n\u001b[1;31mSyntaxError\u001b[0m\u001b[1;31m:\u001b[0m expected ':'\n"
     ]
    }
   ],
   "source": [
    "#indent error in python is easy to find, if we have an indent error, python will tell exact location where the rror is\n",
    "for i in pronounce\n",
    "    print(i, \"\\n\")"
   ]
  },
  {
   "cell_type": "markdown",
   "metadata": {},
   "source": [
    "here the python tell us the indent error is after pronounce, where we actually mising a \":\" there\n"
   ]
  },
  {
   "cell_type": "markdown",
   "metadata": {},
   "source": [
    "Numerical list\n"
   ]
  },
  {
   "cell_type": "code",
   "execution_count": 86,
   "metadata": {},
   "outputs": [
    {
     "name": "stdout",
     "output_type": "stream",
     "text": [
      "1\n",
      "2\n",
      "3\n",
      "4\n"
     ]
    }
   ],
   "source": [
    "#range() function makes it easy to generate number as what we want\n",
    "for i in range(1,5): #in here we tell to print, the range 1 to 4(5-1)\n",
    "    print(i) #it may look like we want to print 1 to 5, but range doesnt print the last number"
   ]
  },
  {
   "cell_type": "code",
   "execution_count": 87,
   "metadata": {},
   "outputs": [
    {
     "data": {
      "text/plain": [
       "[1, 2, 3, 4, 5]"
      ]
     },
     "execution_count": 87,
     "metadata": {},
     "output_type": "execute_result"
    }
   ],
   "source": [
    "#we can also make a list of sequential number easly using range\n",
    "adam = list(range(1,6))\n",
    "adam"
   ]
  },
  {
   "cell_type": "markdown",
   "metadata": {},
   "source": [
    "range definition:\n",
    "range(start, end, step)\n",
    "\n",
    "so if its\n",
    "\n",
    "> list(range(1,5)): <- this will print from 1 to 4, with output\n",
    "\n",
    "> [1, 2, 3, 4]\n",
    "\n",
    "> list(range(1, 5, 2)): <- this will print from 1 to 4, with 2 jumping, with output\n",
    "\n",
    "> [1, 3]"
   ]
  },
  {
   "cell_type": "code",
   "execution_count": 88,
   "metadata": {},
   "outputs": [
    {
     "data": {
      "text/plain": [
       "[1, 3, 5, 7, 9]"
      ]
     },
     "execution_count": 88,
     "metadata": {},
     "output_type": "execute_result"
    }
   ],
   "source": [
    "arithmetic = list(range(1, 10, 2)) #here we start with 1, ends with 10, and with jumping 1 number\n",
    "arithmetic"
   ]
  },
  {
   "cell_type": "code",
   "execution_count": 96,
   "metadata": {},
   "outputs": [
    {
     "name": "stdout",
     "output_type": "stream",
     "text": [
      "[4, 9, 16, 25, 36, 49, 64, 81, 100, 121]\n"
     ]
    }
   ],
   "source": [
    "#we can also combine some operation, for example:\n",
    "squared = [] #first we make an empty list, you can imagine we make a bucket here\n",
    "\n",
    "for i in range(2,12):\n",
    "    square = i**2 #and this is the water, every count is like a drop of watter\n",
    "    squared.append(square) #we put(append) the drop of water(the value after the i**2 operation) to the bucket\n",
    "\n",
    "print(squared) #and here we see what's inside the bucket"
   ]
  },
  {
   "cell_type": "code",
   "execution_count": 97,
   "metadata": {},
   "outputs": [
    {
     "name": "stdout",
     "output_type": "stream",
     "text": [
      "[4, 9, 16, 25, 36, 49, 64, 81, 100, 121]\n"
     ]
    }
   ],
   "source": [
    "#it can be simpler if we write it like this\n",
    "squared = [values**2 for values in range(2,12)]\n",
    "print(squared)"
   ]
  },
  {
   "cell_type": "code",
   "execution_count": 98,
   "metadata": {},
   "outputs": [
    {
     "name": "stdout",
     "output_type": "stream",
     "text": [
      "the list : [4, 9, 16, 25, 36, 49, 64, 81, 100, 121] \n",
      "\n",
      "the maximum is : 121\n",
      "rhe minimum is : 4\n",
      "the sum is     : 505\n"
     ]
    }
   ],
   "source": [
    "#if you learn statistic you must know whats max, min, and sum\n",
    "print(\"the list :\" ,squared, \"\\n\")\n",
    "print(f\"the maximum is : {max(squared)}\")\n",
    "print(f\"rhe minimum is : {min(squared)}\")\n",
    "print(f\"the sum is     : {sum(squared)}\")"
   ]
  },
  {
   "cell_type": "code",
   "execution_count": 99,
   "metadata": {},
   "outputs": [
    {
     "name": "stdout",
     "output_type": "stream",
     "text": [
      "['nathan', 'adriel', 'charles']\n",
      "['nathan', 'adriel', 'charles', 'gabriel']\n",
      "['charles', 'gabriel', 'alex']\n"
     ]
    }
   ],
   "source": [
    "#slicing a list\n",
    "name = [\"nathan\", \"adriel\", \"charles\", \"gabriel\", \"alex\"]\n",
    "print(name[0:3]) #here we want to take the first(0-th element), to the 2-nd element(3)\n",
    "print(name[:4]) #here we automaticly take from the begining to the end of the list, and that's the 3-rd element\n",
    "print(name[2:]) #here we automaticly start from 3-rd element to the end of the list"
   ]
  },
  {
   "cell_type": "code",
   "execution_count": 100,
   "metadata": {},
   "outputs": [
    {
     "name": "stdout",
     "output_type": "stream",
     "text": [
      "the original:  ['nathan', 'adriel', 'charles', 'gabriel', 'alex']\n",
      "the edited one using [:] : ['nathan', 'adriel', 'charles', 'gabriel', 'alex', 'anna']\n",
      "the original:  ['nathan', 'adriel', 'charles', 'gabriel', 'alex', 'anna']\n",
      "the edited without using [:] : ['nathan', 'adriel', 'charles', 'gabriel', 'alex', 'anna']\n"
     ]
    }
   ],
   "source": [
    "#copying a list\n",
    "named_1 = name[:]\n",
    "named_1.append(\"anna\")\n",
    "print(\"the original: \", name)\n",
    "print(\"the edited one using [:] :\", named_1)\n",
    "\n",
    "#this is different, this is not copying at all, its just changing the name\n",
    "named_2 = name\n",
    "named_2.append(\"anna\")\n",
    "print(\"the original: \", name)\n",
    "print(\"the edited without using [:] :\", named_2)\n"
   ]
  },
  {
   "cell_type": "markdown",
   "metadata": {},
   "source": [
    "Tuple"
   ]
  },
  {
   "cell_type": "code",
   "execution_count": 101,
   "metadata": {},
   "outputs": [
    {
     "name": "stdout",
     "output_type": "stream",
     "text": [
      "200\n",
      "50\n"
     ]
    }
   ],
   "source": [
    "#defining a tuple\n",
    "dimension = (200, 50) #different from list, tuple using a parentheses instead of square brackets\n",
    "print(dimension[0])\n",
    "print(dimension[1])"
   ]
  },
  {
   "cell_type": "code",
   "execution_count": 102,
   "metadata": {},
   "outputs": [
    {
     "ename": "TypeError",
     "evalue": "'tuple' object does not support item assignment",
     "output_type": "error",
     "traceback": [
      "\u001b[1;31m---------------------------------------------------------------------------\u001b[0m",
      "\u001b[1;31mTypeError\u001b[0m                                 Traceback (most recent call last)",
      "Cell \u001b[1;32mIn[102], line 2\u001b[0m\n\u001b[0;32m      1\u001b[0m \u001b[38;5;66;03m#different from a list, tuple doesnt support itme assignment\u001b[39;00m\n\u001b[1;32m----> 2\u001b[0m \u001b[43mdimension\u001b[49m\u001b[43m[\u001b[49m\u001b[38;5;241;43m0\u001b[39;49m\u001b[43m]\u001b[49m \u001b[38;5;241m=\u001b[39m \u001b[38;5;241m250\u001b[39m\n\u001b[0;32m      3\u001b[0m dimension\n",
      "\u001b[1;31mTypeError\u001b[0m: 'tuple' object does not support item assignment"
     ]
    }
   ],
   "source": [
    "#different from a list, tuple doesnt support itme assignment\n",
    "dimension[0] = 250\n",
    "dimension"
   ]
  },
  {
   "cell_type": "code",
   "execution_count": 60,
   "metadata": {},
   "outputs": [
    {
     "data": {
      "text/plain": [
       "(3,)"
      ]
     },
     "execution_count": 60,
     "metadata": {},
     "output_type": "execute_result"
    }
   ],
   "source": [
    "#if you want to define tuple with one element you must use a comma\n",
    "example = (3, )\n",
    "example"
   ]
  },
  {
   "cell_type": "code",
   "execution_count": 61,
   "metadata": {},
   "outputs": [
    {
     "name": "stdout",
     "output_type": "stream",
     "text": [
      "200\n",
      "50\n"
     ]
    }
   ],
   "source": [
    "#looping using tuple\n",
    "for i in dimension:\n",
    "    print(i)"
   ]
  },
  {
   "cell_type": "markdown",
   "metadata": {},
   "source": [
    "How to write a code as a python programmer: \n",
    "> Use four spaces for each indentation level. Set your text editor to insert \n",
    "four spaces every time you press tab, if you haven’t already done so (see \n",
    "Appendix B for instructions on how to do this).\n",
    "\n",
    "> Use less than 80 characters on each line, and set your editor to show a \n",
    "vertical guideline at the 80th character position.\n",
    "\n",
    "> Don’t use blank lines excessively in your program files."
   ]
  },
  {
   "cell_type": "markdown",
   "metadata": {},
   "source": [
    "If statement, is used for conditional statement"
   ]
  },
  {
   "cell_type": "code",
   "execution_count": 106,
   "metadata": {},
   "outputs": [
    {
     "name": "stdout",
     "output_type": "stream",
     "text": [
      "['bmw', 'audi', 'honda']\n",
      "BMW\n",
      "Audi\n",
      "Honda\n"
     ]
    }
   ],
   "source": [
    "#An if statement in Python checks if something is true, and if it is, it runs some code.\n",
    "print(car)\n",
    "\n",
    "for i in car:\n",
    "    if i == \"bmw\": #if the value taken from the list is bmw, we will run the upper function to the code\n",
    "        print(i.upper()) \n",
    "    else: #other than bmw, it will use the function title\n",
    "        print(i.title())"
   ]
  },
  {
   "cell_type": "markdown",
   "metadata": {},
   "source": [
    "A Boolean in Python is a data type that can only have two values: True or False. It's used to represent the truth or falsity of a condition."
   ]
  },
  {
   "cell_type": "code",
   "execution_count": null,
   "metadata": {},
   "outputs": [],
   "source": [
    "Can_Edit = False\n",
    "Can_View = True"
   ]
  },
  {
   "cell_type": "markdown",
   "metadata": {},
   "source": [
    "\"==\" is used for if the thing that we want to compare is the same or not, if True then it's the same, and if the output is False, then it's not the same"
   ]
  },
  {
   "cell_type": "code",
   "execution_count": 107,
   "metadata": {},
   "outputs": [
    {
     "data": {
      "text/plain": [
       "True"
      ]
     },
     "execution_count": 107,
     "metadata": {},
     "output_type": "execute_result"
    }
   ],
   "source": [
    "card = \"ace\"\n",
    "card == \"ace\""
   ]
  },
  {
   "cell_type": "code",
   "execution_count": 108,
   "metadata": {},
   "outputs": [
    {
     "data": {
      "text/plain": [
       "False"
      ]
     },
     "execution_count": 108,
     "metadata": {},
     "output_type": "execute_result"
    }
   ],
   "source": [
    "card == \"Ace\""
   ]
  },
  {
   "cell_type": "markdown",
   "metadata": {},
   "source": [
    "See the difference? let me tell you if we want to check something is the same, in python the case is also counted, \"A\" is not the same as \"a\", so it return false if we check card == \"Ace\"."
   ]
  },
  {
   "cell_type": "code",
   "execution_count": 110,
   "metadata": {},
   "outputs": [
    {
     "name": "stdout",
     "output_type": "stream",
     "text": [
      "its not the same\n"
     ]
    }
   ],
   "source": [
    "# != is used if its not the same, then run the code\n",
    "if card != \"Ace\":\n",
    "    print(\"its not the same\")"
   ]
  },
  {
   "cell_type": "code",
   "execution_count": 113,
   "metadata": {},
   "outputs": [
    {
     "name": "stdout",
     "output_type": "stream",
     "text": [
      "True\n",
      "False\n",
      "True\n",
      "True\n"
     ]
    }
   ],
   "source": [
    "#comparasion can also be used to number, and theres more operation we can use, such as\n",
    "age = 17\n",
    "print(age > 16)\n",
    "print(age < 17)\n",
    "print(age >= 16)\n",
    "print(age <= 17)"
   ]
  },
  {
   "cell_type": "code",
   "execution_count": 116,
   "metadata": {},
   "outputs": [
    {
     "name": "stdout",
     "output_type": "stream",
     "text": [
      "is an ilegal age to watch this movie\n"
     ]
    }
   ],
   "source": [
    "#we can also use interval\n",
    "if age>13 and age<18:\n",
    "    print(\"is an ilegal age to watch this movie\")"
   ]
  },
  {
   "cell_type": "code",
   "execution_count": 120,
   "metadata": {},
   "outputs": [
    {
     "name": "stdout",
     "output_type": "stream",
     "text": [
      "False\n",
      "True\n"
     ]
    }
   ],
   "source": [
    "Grandpa = 60\n",
    "Grandma = 80\n",
    "print(Grandpa < 90 and Grandma < 70) # here we check if grandpa is more than 90, and grandma less than 70\n",
    "\n",
    "print(Grandpa < 90 or Grandma < 70) # here we check if grandpa is more than 90 or grandma less than 70"
   ]
  },
  {
   "cell_type": "code",
   "execution_count": 122,
   "metadata": {},
   "outputs": [
    {
     "data": {
      "text/plain": [
       "True"
      ]
     },
     "execution_count": 122,
     "metadata": {},
     "output_type": "execute_result"
    }
   ],
   "source": [
    "#another way to use conditioning except \"if\", \"else\", is by using \"in\"\n",
    "\"audi\" in car"
   ]
  },
  {
   "cell_type": "code",
   "execution_count": 124,
   "metadata": {},
   "outputs": [
    {
     "name": "stdout",
     "output_type": "stream",
     "text": [
      "suzuki is not in car list\n"
     ]
    }
   ],
   "source": [
    "if \"suzuki\" not in car: #this is to check if the values we want is on the list or not\n",
    "    print(f\"suzuki is not in car list\")"
   ]
  },
  {
   "cell_type": "markdown",
   "metadata": {},
   "source": [
    "The simplest way to understand if statement is like this\n",
    "\n",
    ">if _conditional statement_:\n",
    "\n",
    ">   _do something_"
   ]
  },
  {
   "cell_type": "code",
   "execution_count": 126,
   "metadata": {},
   "outputs": [
    {
     "name": "stdout",
     "output_type": "stream",
     "text": [
      "please wait in line\n"
     ]
    }
   ],
   "source": [
    "Age = 17\n",
    "if Age > 13:\n",
    "    print(\"please wait in line\")"
   ]
  },
  {
   "cell_type": "code",
   "execution_count": 128,
   "metadata": {},
   "outputs": [
    {
     "name": "stdout",
     "output_type": "stream",
     "text": [
      "cop : where your parents kid?\n"
     ]
    }
   ],
   "source": [
    "#if-else statement\n",
    "if Age > 18:\n",
    "    print(\"cop : heres your registration sir!\")\n",
    "else:\n",
    "    print(\"cop : where your parents kid?\")"
   ]
  },
  {
   "cell_type": "code",
   "execution_count": 130,
   "metadata": {},
   "outputs": [
    {
     "name": "stdout",
     "output_type": "stream",
     "text": [
      "it cost $20\n"
     ]
    }
   ],
   "source": [
    "#if-elif-else statement\n",
    "if Age<13:\n",
    "    print(\"it cost $14\")\n",
    "elif Age<18:\n",
    "    print(\"it cost $20\")\n",
    "else :\n",
    "    print(\"it cost $26\")"
   ]
  },
  {
   "cell_type": "code",
   "execution_count": 131,
   "metadata": {},
   "outputs": [
    {
     "name": "stdout",
     "output_type": "stream",
     "text": [
      "adding paperoni\n",
      "adding pinaple\n",
      "adding cheese\n",
      "finished making pizza\n"
     ]
    }
   ],
   "source": [
    "#multiple if statement\n",
    "ingridients = [\"paperoni\", \"mushrooms\", \"pinaple\", \"cheese\"]\n",
    "\n",
    "if \"paperoni\" in ingridients:\n",
    "    print(\"adding paperoni\")\n",
    "if \"pinaple\" in ingridients:\n",
    "    print(\"adding pinaple\")\n",
    "if \"cheese\" in ingridients:\n",
    "    print(\"adding cheese\")\n",
    "\n",
    "print(\"finished making pizza\")"
   ]
  },
  {
   "cell_type": "code",
   "execution_count": 132,
   "metadata": {},
   "outputs": [
    {
     "name": "stdout",
     "output_type": "stream",
     "text": [
      "adding paperoni\n",
      "finished making pizza\n"
     ]
    }
   ],
   "source": [
    "#multiple elif statement\n",
    "ingridients = [\"paperoni\", \"mushrooms\", \"pinaple\", \"cheese\"]\n",
    "\n",
    "if \"paperoni\" in ingridients:\n",
    "    print(\"adding paperoni\")\n",
    "elif \"pinaple\" in ingridients:\n",
    "    print(\"adding pinaple\")\n",
    "elif \"cheese\" in ingridients:\n",
    "    print(\"adding cheese\")\n",
    "\n",
    "print(\"finished making pizza\")"
   ]
  },
  {
   "cell_type": "markdown",
   "metadata": {},
   "source": [
    "here cheese and pinaple doesnt get printed out because the code doesnt check for further condition, and also because the if statement in the first line already fullfiled"
   ]
  },
  {
   "cell_type": "code",
   "execution_count": 136,
   "metadata": {},
   "outputs": [
    {
     "name": "stdout",
     "output_type": "stream",
     "text": [
      "paperoni is added to the topping\n",
      "sorry, we're out of mushrooms\n",
      "sorry, we're out of pinaple\n",
      "cheese is added to the topping\n",
      "finished making the pizza\n"
     ]
    }
   ],
   "source": [
    "#if statement with list\n",
    "requsted = [\"paperoni\", \"cheese\"]\n",
    "for i in ingridients:\n",
    "    if i in requsted:\n",
    "        print(f\"{i} is added to the topping\") #this make it easier than writing manually one by one\n",
    "    else:\n",
    "        print(f\"sorry, we're out of {i}\")\n",
    "        \n",
    "print(\"finished making the pizza\")"
   ]
  },
  {
   "cell_type": "code",
   "execution_count": 139,
   "metadata": {},
   "outputs": [
    {
     "name": "stdout",
     "output_type": "stream",
     "text": [
      "are you sure you want some plain pizza?\n"
     ]
    }
   ],
   "source": [
    "#checking empty list\n",
    "requsted = []\n",
    "if len(requsted) > 0:\n",
    "    for i in ingridients:\n",
    "        if i in requsted:\n",
    "            print(f\"{i} is added to the topping\") #this make it easier than writing manually one by one\n",
    "        else:\n",
    "            print(f\"sorry, we're out of {i}\")\n",
    "    print(\"finished making the pizza\")\n",
    "else:\n",
    "    print(\"are you sure you want some plain pizza?\")\n"
   ]
  },
  {
   "cell_type": "markdown",
   "metadata": {},
   "source": [
    "Dictionary, A dictionary in Python is a collection of key-value pairs. Each key is connected to a value, and you can use a key to access the value associated with that key. A key’s value can be a number, a string, a list, or even another dictionary. In fact, you can use any object that you can create in Python as a value in a dictionary.\n",
    "\n",
    "> in dictionaries we work with {}"
   ]
  },
  {
   "cell_type": "code",
   "execution_count": 143,
   "metadata": {},
   "outputs": [
    {
     "data": {
      "text/plain": [
       "90"
      ]
     },
     "execution_count": 143,
     "metadata": {},
     "output_type": "execute_result"
    }
   ],
   "source": [
    "#this is how we make dictionaries\n",
    "grade = {\"A\" : 90, \"B\" : 80, \"C\" : 70, \"D\" : 60, \"E\" : 50} #the definition is object = {Key : Value}\n",
    "\n",
    "grade[\"A\"] #to take a value we need to know the key \"object[key]\""
   ]
  },
  {
   "cell_type": "code",
   "execution_count": 144,
   "metadata": {},
   "outputs": [
    {
     "name": "stdout",
     "output_type": "stream",
     "text": [
      "old grade : {'A': 90, 'B': 80, 'C': 70, 'D': 60, 'E': 50}\n",
      "new grade : {'A': 90, 'B': 80, 'C': 70, 'D': 60, 'E': 50, 'F': 40, 'G': 30}\n"
     ]
    }
   ],
   "source": [
    "#adding key-value pair\n",
    "print(\"old grade :\", grade)\n",
    "grade[\"F\"] = 40\n",
    "grade[\"G\"] = 30\n",
    "\n",
    "print(\"new grade :\", grade)"
   ]
  },
  {
   "cell_type": "code",
   "execution_count": 145,
   "metadata": {},
   "outputs": [
    {
     "name": "stdout",
     "output_type": "stream",
     "text": [
      "old grade : {'A': 90, 'B': 80, 'C': 70, 'D': 60, 'E': 50, 'F': 40, 'G': 30}\n",
      "new grade : {'A': 90, 'B': 80, 'C': 70, 'D': 60, 'E': 50, 'F': 40}\n"
     ]
    }
   ],
   "source": [
    "#deleting key-value pair\n",
    "print(\"old grade :\", grade)\n",
    "del grade[\"G\"]\n",
    "\n",
    "print(\"new grade :\", grade)"
   ]
  },
  {
   "cell_type": "code",
   "execution_count": 152,
   "metadata": {},
   "outputs": [
    {
     "name": "stdout",
     "output_type": "stream",
     "text": [
      "anna grade is 90\n",
      "bella grade is 60\n",
      "charles grade is 80\n"
     ]
    }
   ],
   "source": [
    "#using dictionary\n",
    "listing = {\"anna\" : \"A\", \"bella\": \"D\", \"charles\": \"B\"}\n",
    "\n",
    "for i in listing:\n",
    "    new_grade = listing[i]\n",
    "    if new_grade in grade:\n",
    "        print(f\"{i} grade is {grade[new_grade]}\")"
   ]
  },
  {
   "cell_type": "markdown",
   "metadata": {},
   "source": [
    "using get()\n",
    "\n",
    "get(if true, if false) is a function where if the thing that we want to take doesnt exixt in return false"
   ]
  },
  {
   "cell_type": "code",
   "execution_count": 154,
   "metadata": {},
   "outputs": [
    {
     "name": "stdout",
     "output_type": "stream",
     "text": [
      "there's nothing like what you searched\n"
     ]
    }
   ],
   "source": [
    "point = grade.get(\"X\", \"there's nothing like what you searched\") #here we trying to get X, of course X doesnt exist in grade, so the ourput will be the false one\n",
    "print(point)"
   ]
  },
  {
   "cell_type": "code",
   "execution_count": 156,
   "metadata": {},
   "outputs": [
    {
     "name": "stdout",
     "output_type": "stream",
     "text": [
      "heres the key : A\n",
      "and this is the value : 90 \n",
      "\n",
      "heres the key : B\n",
      "and this is the value : 80 \n",
      "\n",
      "heres the key : C\n",
      "and this is the value : 70 \n",
      "\n",
      "heres the key : D\n",
      "and this is the value : 60 \n",
      "\n",
      "heres the key : E\n",
      "and this is the value : 50 \n",
      "\n",
      "heres the key : F\n",
      "and this is the value : 40 \n",
      "\n"
     ]
    }
   ],
   "source": [
    "for key, value in grade.items():\n",
    "    print(\"heres the key :\", key)\n",
    "    print(\"and this is the value :\", value, \"\\n\")"
   ]
  },
  {
   "cell_type": "code",
   "execution_count": 160,
   "metadata": {},
   "outputs": [
    {
     "name": "stdout",
     "output_type": "stream",
     "text": [
      "Here's all the keys :  A\n",
      "Here's all the keys :  B\n",
      "Here's all the keys :  C\n",
      "Here's all the keys :  D\n",
      "Here's all the keys :  E\n",
      "Here's all the keys :  F\n",
      "Here's all the values :  90\n",
      "Here's all the values :  80\n",
      "Here's all the values :  70\n",
      "Here's all the values :  60\n",
      "Here's all the values :  50\n",
      "Here's all the values :  40\n"
     ]
    }
   ],
   "source": [
    "#we can also look at the key\n",
    "for key in grade.keys():\n",
    "    print(\"Here's all the keys : \", key)\n",
    "\n",
    "for value in grade.values():\n",
    "    print(\"Here's all the values : \", value)"
   ]
  },
  {
   "cell_type": "code",
   "execution_count": 161,
   "metadata": {},
   "outputs": [
    {
     "name": "stdout",
     "output_type": "stream",
     "text": [
      "{'grade': 'A', 'class': 7}\n",
      "{'grade': 'B', 'class': 8}\n",
      "{'grade': 'C', 'class': 9}\n"
     ]
    }
   ],
   "source": [
    " #a list of dictionaries\n",
    "kid_a = {\"grade\" : \"A\", \"class\" : 7}\n",
    "kid_b = {\"grade\" : \"B\", \"class\" : 8}\n",
    "kid_c = {\"grade\" : \"C\", \"class\" : 9}\n",
    "\n",
    "kid = [kid_a, kid_b, kid_c]\n",
    "\n",
    "for i in kid:\n",
    "    print (i)"
   ]
  },
  {
   "cell_type": "code",
   "execution_count": 164,
   "metadata": {},
   "outputs": [
    {
     "name": "stdout",
     "output_type": "stream",
     "text": [
      "{'grade': 'A', 'class': 10, 'concentration': 'math'}\n",
      "{'grade': 'A', 'class': 10, 'concentration': 'math'}\n",
      "{'grade': 'A', 'class': 10, 'concentration': 'math'}\n",
      "{'grade': 'A', 'class': 10, 'concentration': 'math'}\n",
      "{'grade': 'A', 'class': 10, 'concentration': 'math'}\n",
      "...\n",
      "\n",
      "the number of kids joining this school is : 30\n"
     ]
    }
   ],
   "source": [
    "kids = []\n",
    "\n",
    "#now we make 30 kids\n",
    "for i in range(30):\n",
    "    new_kid = {\"grade\" : \"A\", \"class\" : 10, \"concentration\" : \"math\"}\n",
    "    kids.append(new_kid)\n",
    "\n",
    "for i in kids[:5]:\n",
    "    print(i)\n",
    "print(\"...\")\n",
    "#number of kids joining\n",
    "print(f\"\\nthe number of kids joining this school is : {len(kids)}\")"
   ]
  },
  {
   "cell_type": "code",
   "execution_count": 166,
   "metadata": {},
   "outputs": [
    {
     "name": "stdout",
     "output_type": "stream",
     "text": [
      "{'grade': 'B', 'class': 9}\n",
      "{'grade': 'B', 'class': 9}\n",
      "{'grade': 'B', 'class': 9}\n",
      "{'grade': 'B', 'class': 9}\n",
      "{'grade': 'B', 'class': 9}\n",
      "...\n",
      "\n",
      "the number of kids joining this school is : 30\n"
     ]
    }
   ],
   "source": [
    "#we can also change the value\n",
    "for i in kids[:5]:\n",
    "    if i[\"grade\"] == \"A\":\n",
    "        i[\"grade\"] = \"B\"\n",
    "        i[\"class\"] = 9\n",
    "        del i[\"concentration\"]\n",
    "\n",
    "for i in kids[:5]:\n",
    "    print(i)\n",
    "print(\"...\")\n",
    "#number of kids joining\n",
    "print(f\"\\nthe number of kids joining this school is : {len(kids)}\")"
   ]
  },
  {
   "cell_type": "code",
   "execution_count": 168,
   "metadata": {},
   "outputs": [
    {
     "name": "stdout",
     "output_type": "stream",
     "text": [
      "\n",
      "Jen's favorite languages are:\n",
      "\tPython\n",
      "\tRuby\n",
      "\n",
      "Sarah's favorite languages are:\n",
      "\tC\n",
      "\n",
      "Edward's favorite languages are:\n",
      "\tRuby\n",
      "\tGo\n",
      "\n",
      "Phil's favorite languages are:\n",
      "\tPython\n",
      "\tHaskell\n"
     ]
    }
   ],
   "source": [
    "#list in dictionary\n",
    "favorite_languages = {\n",
    "    'jen': ['python', 'ruby'], \n",
    "    'sarah': ['c'], \n",
    "    'edward': ['ruby', 'go'], \n",
    "    'phil': ['python', 'haskell'], \n",
    "    }\n",
    "for name, languages in favorite_languages.items():\n",
    "    print(f\"\\n{name.title()}'s favorite languages are:\")\n",
    "    for language in languages:\n",
    "        print(f\"\\t{language.title()}\")"
   ]
  },
  {
   "cell_type": "code",
   "execution_count": 169,
   "metadata": {},
   "outputs": [
    {
     "name": "stdout",
     "output_type": "stream",
     "text": [
      "\n",
      "Username: aeinstein\n",
      "\tFull name: Albert Einstein\n",
      "\tLocation: Princeton\n",
      "\n",
      "Username: mcurie\n",
      "\tFull name: Marie Curie\n",
      "\tLocation: Paris\n"
     ]
    }
   ],
   "source": [
    "#dictionary in dictionary\n",
    "users = {\n",
    "    'aeinstein': {\n",
    "        'first': 'albert',\n",
    "        'last': 'einstein',\n",
    "        'location': 'princeton',\n",
    "         },\n",
    "    'mcurie': {\n",
    "        'first': 'marie',\n",
    "        'last': 'curie',\n",
    "        'location': 'paris',\n",
    "        },\n",
    "}\n",
    "\n",
    "for username, user_info in users.items(): #here we take the key and values, in here as well the values is in the form of dictionary\n",
    "    print(f\"\\nUsername: {username}\") \n",
    "    full_name = f\"{user_info['first']} {user_info['last']}\" #here we take the values from the dictionary in the for of values(user_info)\n",
    "    location = user_info['location']\n",
    "    print(f\"\\tFull name: {full_name.title()}\")\n",
    "    print(f\"\\tLocation: {location.title()}\")"
   ]
  },
  {
   "cell_type": "markdown",
   "metadata": {},
   "source": [
    "Input and While Loops"
   ]
  },
  {
   "cell_type": "code",
   "execution_count": 172,
   "metadata": {},
   "outputs": [
    {
     "name": "stdout",
     "output_type": "stream",
     "text": [
      "your grade is 90\n"
     ]
    }
   ],
   "source": [
    "grade = input(\"please input your grade here :\") #the input function here is trying to insert the values from the user, incase the user want to test antoher values\n",
    "print(f\"your grade is {grade}\") "
   ]
  },
  {
   "cell_type": "code",
   "execution_count": 173,
   "metadata": {},
   "outputs": [
    {
     "name": "stdout",
     "output_type": "stream",
     "text": [
      "\n",
      "Hi nabila is nice to meet you here\n"
     ]
    }
   ],
   "source": [
    "prompt = \"hi, my name is alpha, im your peresonal asistant here, trying to help you\"\n",
    "prompt += \"first, may i know your name?\" #+= can be used to giving addition text withou replacing the text defined before \n",
    "\n",
    "name = input(prompt)\n",
    "print(\"\\nHi\", name, \"is nice to meet you here\")"
   ]
  },
  {
   "cell_type": "code",
   "execution_count": 174,
   "metadata": {},
   "outputs": [
    {
     "name": "stdout",
     "output_type": "stream",
     "text": [
      "dumbass\n"
     ]
    }
   ],
   "source": [
    "#using int to accept only numerical values\n",
    "grade = int(input(\"please input your grade : \"))\n",
    "if grade > 80:\n",
    "    print(\"thats great\")\n",
    "else:\n",
    "    print(\"dumbass\")"
   ]
  },
  {
   "cell_type": "code",
   "execution_count": 177,
   "metadata": {},
   "outputs": [
    {
     "name": "stdout",
     "output_type": "stream",
     "text": [
      "is an odd number\n"
     ]
    }
   ],
   "source": [
    "#Modulo operator (%), except + - * / theres also a % operation, this is a mod operation, you learn it in linear alegabra\n",
    "#so mod is basicly taking the remnance of the dividor, so if 5/2 is 2 with 1 left, mod will output the 1 that cant be divided\n",
    "5 % 2\n",
    "#mod is frequently used to know if a number is even or odd. for example\n",
    "number = int(input(\"please input your number :\"))\n",
    "if number%2==0:\n",
    "    print(\"the number is even dude\")\n",
    "else:\n",
    "    print(\"is an odd number\")"
   ]
  },
  {
   "cell_type": "markdown",
   "metadata": {},
   "source": [
    "While loop, is another kind of loop beside for, the difference is, while need an increment/decrement, using =+ or -=, and while looping will run till a condition has been made"
   ]
  },
  {
   "cell_type": "code",
   "execution_count": 178,
   "metadata": {},
   "outputs": [
    {
     "name": "stdout",
     "output_type": "stream",
     "text": [
      "1\n",
      "2\n",
      "3\n",
      "4\n"
     ]
    }
   ],
   "source": [
    "i = 1\n",
    "while i < 5: #so what is this saying is, while i(start with 1) is under 5, when i is 4, we stop the iteration\n",
    "    print(i) #we print i\n",
    "    i+=1 #here we increase the i by 1"
   ]
  },
  {
   "cell_type": "code",
   "execution_count": 179,
   "metadata": {},
   "outputs": [
    {
     "name": "stdout",
     "output_type": "stream",
     "text": [
      "hi\n",
      "iysme\n",
      "why\n",
      "quit\n"
     ]
    }
   ],
   "source": [
    "prompt = \"\\nTell me something, and I will repeat it back to you:\"\n",
    "prompt += \"\\nEnter 'quit' to end the program. \"\n",
    "\n",
    "message = \"\"\n",
    "while message != 'quit':\n",
    "    message = input(prompt)\n",
    "    print(message)"
   ]
  },
  {
   "cell_type": "code",
   "execution_count": null,
   "metadata": {},
   "outputs": [],
   "source": []
  },
  {
   "cell_type": "code",
   "execution_count": 183,
   "metadata": {},
   "outputs": [
    {
     "name": "stdout",
     "output_type": "stream",
     "text": [
      "one on one\n",
      "two by one\n",
      "three by pass\n"
     ]
    }
   ],
   "source": [
    "prompt = \"\\nTell me something, and I will repeat it back to you:\"\n",
    "prompt += \"\\nEnter 'quit' to end the program. \"\n",
    "\n",
    "active = True\n",
    "message = \"\"\n",
    "while active: #here we can say as while its still true, the code will go on\n",
    "    message = input(prompt)\n",
    "    if message == 'quit': #but when the user input quit, the code will stop, by making the active object is False\n",
    "        active = False\n",
    "    else:\n",
    "        print(message)"
   ]
  },
  {
   "cell_type": "code",
   "execution_count": 184,
   "metadata": {},
   "outputs": [
    {
     "name": "stdout",
     "output_type": "stream",
     "text": [
      "ayla\n",
      "love\n",
      "mother\n",
      "and\n"
     ]
    }
   ],
   "source": [
    "#antoher way is using break, to stop the loop\n",
    "prompt = \"\\nTell me something, and I will repeat it back to you:\"\n",
    "prompt += \"\\nEnter 'quit' to end the program. \"\n",
    "\n",
    "active = True\n",
    "message = \"\"\n",
    "while active: #here we can say as while its still true, the code will go on\n",
    "    message = input(prompt)\n",
    "    if message == 'quit': #but when the user input quit, the code will stop, by making the active object is False\n",
    "        break\n",
    "    else:\n",
    "        print(message)"
   ]
  },
  {
   "cell_type": "code",
   "execution_count": 185,
   "metadata": {},
   "outputs": [
    {
     "name": "stdout",
     "output_type": "stream",
     "text": [
      "1\n",
      "3\n",
      "5\n",
      "7\n",
      "9\n"
     ]
    }
   ],
   "source": [
    "i = 0\n",
    "while i < 10: #while i < 10, run the code\n",
    "    i += 1 #increase it by one every time\n",
    "    if i % 2 == 0: #if its even dont do anything, just continue\n",
    "        continue \n",
    "    print(i) #here the output will give us anything except an even number, cause if the number is even, the code will continue and not print it"
   ]
  },
  {
   "cell_type": "code",
   "execution_count": 186,
   "metadata": {},
   "outputs": [
    {
     "name": "stdout",
     "output_type": "stream",
     "text": [
      "['dog', 'cat', 'dog', 'goldfish', 'cat', 'rabbit', 'cat']\n",
      "['dog', 'dog', 'goldfish', 'rabbit']\n"
     ]
    }
   ],
   "source": [
    "pets = ['dog', 'cat', 'dog', 'goldfish', 'cat', 'rabbit', 'cat']\n",
    "print(pets)\n",
    "while 'cat' in pets: #while theres a cat in the list, the output will not be given\n",
    "    pets.remove('cat')\n",
    " \n",
    "print(pets)"
   ]
  },
  {
   "cell_type": "code",
   "execution_count": 193,
   "metadata": {},
   "outputs": [
    {
     "name": "stdout",
     "output_type": "stream",
     "text": [
      "\n",
      "---response---\n",
      "the name alfath, is in math major\n",
      "the name noval, is in math major\n",
      "the name putri, is in nurse major\n",
      "the name fauzi, is in farmation major\n"
     ]
    }
   ],
   "source": [
    "#we can also make a dictionary by using the input from the user\n",
    "responses = {}\n",
    "\n",
    "# Set a flag to indicate that polling is active.\n",
    "web = True\n",
    "while web:\n",
    "    name = input(\"please input your name...\") # Prompt for the person's name and response.\n",
    "    response = input(\"what major youre in...\")\n",
    "    responses[name] = response # Store the response in the dictionary\n",
    "\n",
    "    repeat = input(\"would you like to fill another one? (yes/no)\") # Find out if anyone else is going to take the poll.\n",
    "    if repeat == \"no\": \n",
    "        web = False\n",
    "    else :\n",
    "        continue\n",
    "    \n",
    "print(\"\\n---response---\")# Polling is complete. Show the results.\n",
    "for k, v in responses.items():\n",
    "    print(f\"the name {k}, is in {v} major\")"
   ]
  },
  {
   "cell_type": "markdown",
   "metadata": {},
   "source": [
    "Function"
   ]
  },
  {
   "cell_type": "code",
   "execution_count": 195,
   "metadata": {},
   "outputs": [
    {
     "name": "stdout",
     "output_type": "stream",
     "text": [
      "hello im a guy\n"
     ]
    }
   ],
   "source": [
    "#example of a function\n",
    "def greetings():\n",
    "    print(\"hello im a guy\")\n",
    "\n",
    "greetings()"
   ]
  },
  {
   "cell_type": "code",
   "execution_count": 196,
   "metadata": {},
   "outputs": [
    {
     "name": "stdout",
     "output_type": "stream",
     "text": [
      "hello Zahra, good morning my love :D\n"
     ]
    }
   ],
   "source": [
    "#passing a information to function\n",
    "def greetings(username): #the username here is called parameters, \n",
    "    print(f\"hello {username}, good morning my love :D\") #parameter is the information that will be used to the code inside the function\n",
    "\n",
    "greetings(\"Zahra\") #the name Zahra here is called an argument"
   ]
  },
  {
   "cell_type": "code",
   "execution_count": 200,
   "metadata": {},
   "outputs": [
    {
     "name": "stdout",
     "output_type": "stream",
     "text": [
      "hello Zahra, the close relative of Kanung\n",
      "hello Alfath, the close relative of Rezalaksono\n"
     ]
    }
   ],
   "source": [
    "#parmeter that can be put in a function is infinte\n",
    "def greetings(name, relative):\n",
    "    print(f\"hello {name.title()}, the close relative of {relative.title()}\")\n",
    "\n",
    "greetings(\"Zahra\", \"Kanung\")\n",
    "greetings(\"Alfath\", \"Rezalaksono\")"
   ]
  },
  {
   "cell_type": "code",
   "execution_count": 201,
   "metadata": {},
   "outputs": [
    {
     "name": "stdout",
     "output_type": "stream",
     "text": [
      "hello Zahra, the close relative of Kanung\n",
      "hello Alfath, the close relative of Rezalaksono\n"
     ]
    }
   ],
   "source": [
    "#position of an argument is matter in function, but theres a way to avoid the miss positioning here\n",
    "greetings(relative = \"Kanung\", name = \"Zahra\") #and thats by defining the parameter and its argument\n",
    "greetings(relative = \"Rezalaksono\", name = \"Alfath\")"
   ]
  },
  {
   "cell_type": "code",
   "execution_count": 202,
   "metadata": {},
   "outputs": [
    {
     "name": "stdout",
     "output_type": "stream",
     "text": [
      "hello Zahra, the close relative of Adam\n",
      "hello Alfath, the close relative of Adam\n"
     ]
    }
   ],
   "source": [
    "#default values in function is to prevent missing argument, or to make the function more efficient\n",
    "def greetings(name, relative = \"adam\"): #here we set the default of the relative is adam\n",
    "    print(f\"hello {name.title()}, the close relative of {relative.title()}\")\n",
    "\n",
    "greetings(\"Zahra\")\n",
    "greetings(\"Alfath\")"
   ]
  },
  {
   "cell_type": "code",
   "execution_count": 205,
   "metadata": {},
   "outputs": [
    {
     "data": {
      "text/plain": [
       "'Alfathamdi Putra'"
      ]
     },
     "execution_count": 205,
     "metadata": {},
     "output_type": "execute_result"
    }
   ],
   "source": [
    "#Return a value\n",
    "def get_fullname(first, last): #takes parameters a first and last name\n",
    "    fullname = f\"{first} {last}\" #The function combines these two names, adds a space between them\n",
    "    return fullname.title() #return the combined names in title format\n",
    "\n",
    "get_fullname(\"alfathamdi\", \"putra\")"
   ]
  },
  {
   "cell_type": "code",
   "execution_count": 208,
   "metadata": {},
   "outputs": [
    {
     "name": "stdout",
     "output_type": "stream",
     "text": [
      "Alfathamdi Putra\n",
      "Zahra Tivani Juliana\n"
     ]
    }
   ],
   "source": [
    "#theres a case where some people have and dont have a middle name\n",
    "def get_fullname(first, last, midle=\"\"):\n",
    "    if midle:\n",
    "        fullname = f\"{first} {midle} {last}\"\n",
    "    else: \n",
    "        fullname = f\"{first} {last}\"\n",
    "    return fullname.title()\n",
    "\n",
    "print(get_fullname(\"alfathamdi\", \"putra\"))\n",
    "print(get_fullname(\"Zahra\", \"juliana\", \"Tivani\"))"
   ]
  },
  {
   "cell_type": "code",
   "execution_count": 212,
   "metadata": {},
   "outputs": [
    {
     "data": {
      "text/plain": [
       "{'first_name': 'Alfathamdi', 'last_name': 'Putra', 'age': 21}"
      ]
     },
     "execution_count": 212,
     "metadata": {},
     "output_type": "execute_result"
    }
   ],
   "source": [
    "#returning a dictionary\n",
    "def register(first, last, age=None):\n",
    "    person = {\"first_name\" : first.title(), \"last_name\" : last.title()}\n",
    "    if age:\n",
    "        person[\"age\"] = age\n",
    "    return person\n",
    "\n",
    "name = register(\"alfathamdi\", \"putra\", 21)\n",
    "name"
   ]
  },
  {
   "cell_type": "code",
   "execution_count": 214,
   "metadata": {},
   "outputs": [
    {
     "name": "stdout",
     "output_type": "stream",
     "text": [
      "Hello, Anna!\n",
      "Hello, Bella!\n",
      "Hello, Cindy!\n",
      "Hello, Donnie!\n"
     ]
    }
   ],
   "source": [
    "#passing a list\n",
    "def greeting_user(user):\n",
    "    for i in user:\n",
    "        print(f\"Hello, {i.title()}!\")\n",
    "\n",
    "name = [\"anna\", \"bella\", \"cindy\", \"donnie\"]\n",
    "greeting_user(name)"
   ]
  },
  {
   "cell_type": "code",
   "execution_count": 215,
   "metadata": {},
   "outputs": [
    {
     "name": "stdout",
     "output_type": "stream",
     "text": [
      "Printing model: dodecahedron\n",
      "Printing model: robot pendant\n",
      "Printing model: phone case\n",
      "\n",
      "The following models have been printed:\n",
      "dodecahedron\n",
      "robot pendant\n",
      "phone case\n"
     ]
    }
   ],
   "source": [
    "#modifying a list in a function using pop()\n",
    "def print_models(unprinted_designs, completed_models):\n",
    "    while unprinted_designs:\n",
    "        current_design = unprinted_designs.pop()\n",
    "        print(f\"Printing model: {current_design}\")\n",
    "        completed_models.append(current_design)\n",
    "    \n",
    "def show_completed_models(completed_models):\n",
    "    print(\"\\nThe following models have been printed:\")\n",
    "    for completed_model in completed_models:\n",
    "        print(completed_model)\n",
    " \n",
    "unprinted_designs = ['phone case', 'robot pendant', 'dodecahedron']\n",
    "completed_models = []\n",
    "print_models(unprinted_designs, completed_models) #remember this line, and compare it to the next code\n",
    "show_completed_models(completed_models)"
   ]
  },
  {
   "cell_type": "code",
   "execution_count": null,
   "metadata": {},
   "outputs": [],
   "source": [
    "#Preventing a Function from Modifying a List\n",
    "def print_models(unprinted_designs, completed_models):\n",
    "    while unprinted_designs:\n",
    "        current_design = unprinted_designs.pop()\n",
    "        print(f\"Printing model: {current_design}\")\n",
    "        completed_models.append(current_design)\n",
    "    \n",
    "def show_completed_models(completed_models):\n",
    "    print(\"\\nThe following models have been printed:\")\n",
    "    for completed_model in completed_models:\n",
    "        print(completed_model)\n",
    " \n",
    "unprinted_designs = ['phone case', 'robot pendant', 'dodecahedron']\n",
    "completed_models = []\n",
    "print_models(unprinted_designs[:], completed_models) #the [:] is showing if we were using a copy of the function, so that the original list wont change\n",
    "show_completed_models(completed_models)"
   ]
  },
  {
   "cell_type": "markdown",
   "metadata": {},
   "source": [
    "If you want a function to accept several different kinds of arguments, the \n",
    "parameter that accepts an arbitrary number of arguments must be placed \n",
    "last in the function definition."
   ]
  },
  {
   "cell_type": "code",
   "execution_count": 217,
   "metadata": {},
   "outputs": [
    {
     "name": "stdout",
     "output_type": "stream",
     "text": [
      "\n",
      "Making a pizza with the following toppings:\n",
      "- pepperoni\n",
      "\n",
      "Making a pizza with the following toppings:\n",
      "- mushrooms\n",
      "- green peppers\n",
      "- extra cheese\n"
     ]
    }
   ],
   "source": [
    "#Passing an Arbitrary Number of Arguments\n",
    "def make_pizza(*toppings): #the \"*\" before the word toppings here is parameter collects as many arguments as calling line provides\n",
    "    print(\"\\nMaking a pizza with the following toppings:\")\n",
    "    for topping in toppings:\n",
    "        print(f\"- {topping}\")\n",
    "\n",
    "make_pizza('pepperoni')\n",
    "make_pizza('mushrooms', 'green peppers', 'extra cheese')"
   ]
  },
  {
   "cell_type": "code",
   "execution_count": 218,
   "metadata": {},
   "outputs": [
    {
     "name": "stdout",
     "output_type": "stream",
     "text": [
      "\n",
      "Making a 16-inch pizza with the following toppings:\n",
      "- pepperoni\n",
      "\n",
      "Making a 12-inch pizza with the following toppings:\n",
      "- mushrooms\n",
      "- green peppers\n",
      "- extra cheese\n"
     ]
    }
   ],
   "source": [
    "#Mixing Positional and Arbitrary Arguments\n",
    "def make_pizza(size, *toppings): \n",
    "    print(f\"\\nMaking a {size}-inch pizza with the following toppings:\") \n",
    "    for topping in toppings: \n",
    "        print(f\"- {topping}\") \n",
    " \n",
    "make_pizza(16, 'pepperoni') \n",
    "make_pizza(12, 'mushrooms', 'green peppers', 'extra cheese')"
   ]
  },
  {
   "cell_type": "markdown",
   "metadata": {},
   "source": [
    "Sometimes you’ll want to accept an arbitrary number of arguments, but you \n",
    "won’t know ahead of time what kind of information will be passed to the \n",
    "function. In this case, you can write functions that accept as many key-value \n",
    "pairs as the calling statement provides. One example involves building user \n",
    "profiles"
   ]
  },
  {
   "cell_type": "code",
   "execution_count": 219,
   "metadata": {},
   "outputs": [
    {
     "name": "stdout",
     "output_type": "stream",
     "text": [
      "{'location': 'princeton', 'field': 'physics', 'first_name': 'albert', 'last_name': 'einstein'}\n"
     ]
    }
   ],
   "source": [
    "#Using Arbitrary Keyword Arguments\n",
    "def build_profile(first, last, **user_info): #\"**\" before user info here is cause Python to create an empty dictionary called user_info and pack whatever name-value pairs it receives into this dictionary.\n",
    "    user_info['first_name'] = first\n",
    "    user_info['last_name'] = last\n",
    "    return user_info\n",
    "\n",
    "user_profile = build_profile('albert', 'einstein', location='princeton', field='physics')\n",
    "print(user_profile)"
   ]
  },
  {
   "cell_type": "markdown",
   "metadata": {},
   "source": [
    "Class\n",
    "> When you write a class, you define the general \n",
    "behavior that a whole category of objects can have. "
   ]
  },
  {
   "cell_type": "code",
   "execution_count": 4,
   "metadata": {},
   "outputs": [
    {
     "name": "stdout",
     "output_type": "stream",
     "text": [
      "my dog name is Steven\n",
      "my dog age is 16\n",
      "Steven is sitting now.\n",
      "Steven rolled over!\n"
     ]
    }
   ],
   "source": [
    "class Dog:\n",
    "    def __init__(self, name, age): #initialize name and age attributes\n",
    "        self.name = name\n",
    "        self.age = age\n",
    "    \n",
    "    def sit(self):\n",
    "        print(f\"{self.name} is sitting now.\")\n",
    "    \n",
    "    def roll_over(self):\n",
    "        print(f\"{self.name} rolled over!\")\n",
    "\n",
    "my_dog = Dog(\"Steven\", 16)\n",
    "print(f\"my dog name is {my_dog.name}\")\n",
    "print(f\"my dog age is {my_dog.age}\")\n",
    "my_dog.sit()\n",
    "my_dog.roll_over()"
   ]
  },
  {
   "cell_type": "code",
   "execution_count": 6,
   "metadata": {},
   "outputs": [
    {
     "name": "stdout",
     "output_type": "stream",
     "text": [
      "2019 Audi A4\n"
     ]
    }
   ],
   "source": [
    "class Car:\n",
    "    def __init__(self, make, model, year): #The __init__() method takes in these parameters and assigns them to the attributes that will be associated with instances made from this class. \n",
    "        self.make = make\n",
    "        self.model = model\n",
    "        self.year = year\n",
    "        #When we make a new Car instance, we’ll need to specify a make, model, and year for our instance.\n",
    "\n",
    "    def get_descriptive_name(self): # get_descriptive_name() that puts a car’s year, make, and model into one string neatly describing the car.\n",
    "        long_name = f\"{self.year} {self.make} {self.model}\"\n",
    "        return long_name.title()\n",
    "    \n",
    "my_new_car = Car('audi', 'a4', 2019)\n",
    "print(my_new_car.get_descriptive_name())"
   ]
  },
  {
   "cell_type": "code",
   "execution_count": 21,
   "metadata": {},
   "outputs": [
    {
     "name": "stdout",
     "output_type": "stream",
     "text": [
      "2019 Audi A4\n",
      "\n",
      "This car has 0 miles on it.\n",
      "\n",
      "This car has 100 miles on it.\n",
      "\n",
      "You can't roll back an odometer!\n",
      "\n",
      "This car has 100 miles on it.\n",
      "\n",
      "This car has 200 miles on it.\n"
     ]
    }
   ],
   "source": [
    "#giving a default value in class\n",
    "class Car:\n",
    "    def __init__(self, make, model, year): #The __init__() method takes in these parameters and assigns them to the attributes that will be associated with instances made from this class. \n",
    "        self.make = make\n",
    "        self.model = model\n",
    "        self.year = year\n",
    "        self.odometer = 0\n",
    "        #When we make a new Car instance, we’ll need to specify a make, model, and year for our instance.\n",
    "\n",
    "    def get_descriptive_name(self): # get_descriptive_name() that puts a car’s year, make, and model into one string neatly describing the car.\n",
    "        long_name = f\"{self.year} {self.make} {self.model}\"\n",
    "        return long_name.title()\n",
    "    \n",
    "    def read_odometer(self):\n",
    "        print(f\"\\nThis car has {self.odometer} miles on it.\")\n",
    "    \n",
    "    #Modifying an Attribute’s Value Through a Method\n",
    "    def update_odometer(self, mileage):\n",
    "        if mileage >= self.odometer:\n",
    "            self.odometer = mileage #Set the odometer reading to the given value\n",
    "        else:\n",
    "            print(\"\\nYou can't roll back an odometer!\") #Reject the change if it attempts to roll the odometer back.\n",
    "\n",
    "    #Incrementing an Attribute’s Value Through a Method\n",
    "    def increment_odometer(self, miles):\n",
    "        self.odometer += miles #Add the given amount to the odometer reading.\n",
    "\n",
    "    \n",
    "my_new_car = Car('audi', 'a4', 2019)\n",
    "print(my_new_car.get_descriptive_name())\n",
    "my_new_car.read_odometer()\n",
    "\n",
    "#we can also modified the attributes value\n",
    "my_new_car.odometer = 100\n",
    "my_new_car.read_odometer()\n",
    "\n",
    "#Modifying an Attribute’s Value Through a Method\n",
    "my_new_car.update_odometer(23)\n",
    "my_new_car.read_odometer()\n",
    "\n",
    "#Incrementing an Attribute’s Value Through a Method\n",
    "my_new_car.increment_odometer(100)\n",
    "my_new_car.read_odometer()"
   ]
  },
  {
   "cell_type": "markdown",
   "metadata": {},
   "source": [
    "Inheritance\n",
    ">If the class \n",
    "you’re writing is a specialized version of another class you wrote, you can \n",
    "use inheritance. When one class inherits from another, it takes on the attributes and methods of the first class. The original class is called the parent \n",
    "class, and the new class is the child class. The child class can inherit any \n",
    "or all of the attributes and methods of its parent class, but it’s also free to \n",
    "define new attributes and methods of its own.\n"
   ]
  },
  {
   "cell_type": "code",
   "execution_count": 27,
   "metadata": {},
   "outputs": [
    {
     "name": "stdout",
     "output_type": "stream",
     "text": [
      "2019 Tesla \"Model S\"\n",
      "the battery the car model tesla \"model s\" 2019 is 75-kWh\n"
     ]
    }
   ],
   "source": [
    "class ElectricCar(Car):\n",
    "    def __init__(self, make, model, year): #Represent aspects of a car, specific to electric vehicles.\n",
    "        super().__init__(make, model, year) #Initialize attributes of the parent class.\n",
    "        #Defining Attributes and Methods for the Child Class\n",
    "        self.battery_size = 75\n",
    "    \n",
    "    def describe_battery(self):\n",
    "        print(f\"the battery the car model {self.make} {self.model} {self.year} is {self.battery_size}-kWh\")\n",
    "\n",
    "    def fill_gas_tank(self):\n",
    "        print(\"This car doesn't need a gas tank!\") #duhh, cause its an electric car bruhh, ofc it doesnt need a gass \n",
    "\n",
    "my_tesla = ElectricCar('tesla', '\"model s\"', 2019)\n",
    "print(my_tesla.get_descriptive_name())\n",
    "my_tesla.describe_battery()"
   ]
  },
  {
   "cell_type": "code",
   "execution_count": 48,
   "metadata": {},
   "outputs": [
    {
     "name": "stdout",
     "output_type": "stream",
     "text": [
      "2019 Tesla \"Model S\"\n",
      "the battery size of the car is 80-kWh\n",
      "this car can run around 350 on full charge\n"
     ]
    }
   ],
   "source": [
    "#making two class work together/separating class\n",
    "class Battery:\n",
    "    def __init__(self, battery_size = 75):\n",
    "        self.battery_size = battery_size\n",
    "    \n",
    "    def describe_battery(self):\n",
    "        print(f\"the battery size of the car is {self.battery_size}-kWh\")\n",
    "\n",
    "    def get_range(self): \n",
    "        if self.battery_size >= 60 and self.battery_size <= 75:\n",
    "            range = 260\n",
    "        elif self.battery_size <= 80:\n",
    "            range = 350\n",
    "        print(f\"this car can run around {range} on full charge\")\n",
    "\n",
    "class ElectricCar(Car):\n",
    "    def __init__(self, make, model, year): #Represent aspects of a car, specific to electric vehicles.\n",
    "        super().__init__(make, model, year) #Initialize attributes of the parent class.\n",
    "        #Defining Attributes and Methods for the Child Class\n",
    "        self.battery_size = Battery()\n",
    "\n",
    "    def fill_gas_tank(self):\n",
    "        print(\"This car doesn't need a gas tank!\") #duhh, cause its an electric car bruhh, ofc it doesnt need a gass \n",
    "    \n",
    "    \n",
    "my_tesla = ElectricCar('tesla', '\"model s\"', 2019)\n",
    "print(my_tesla.get_descriptive_name())\n",
    "my_tesla.battery_size = Battery(80)\n",
    "my_tesla.battery_size.describe_battery()\n",
    "my_tesla.battery_size.get_range()"
   ]
  },
  {
   "cell_type": "code",
   "execution_count": null,
   "metadata": {},
   "outputs": [],
   "source": []
  }
 ],
 "metadata": {
  "kernelspec": {
   "display_name": "Python 3",
   "language": "python",
   "name": "python3"
  },
  "language_info": {
   "codemirror_mode": {
    "name": "ipython",
    "version": 3
   },
   "file_extension": ".py",
   "mimetype": "text/x-python",
   "name": "python",
   "nbconvert_exporter": "python",
   "pygments_lexer": "ipython3",
   "version": "3.11.9"
  }
 },
 "nbformat": 4,
 "nbformat_minor": 2
}
